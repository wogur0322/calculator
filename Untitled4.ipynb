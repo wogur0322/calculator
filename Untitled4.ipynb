{
 "cells": [
  {
   "cell_type": "code",
   "execution_count": null,
   "id": "43f50628-7531-47fa-9fc6-fd7a22d9241a",
   "metadata": {},
   "outputs": [],
   "source": [
    "try:\n",
    "  a, b = map(int,input(\"숫자 두 개를 입력하세요: \").split())\n",
    "  c = a/b\n",
    "except ZeroDivisionError:\n",
    "  print(\"입력한 숫자를 화긴해주세요\")\n",
    "    #try, except는 필수, else랑 finally는 선택사항\n",
    "except ValueError:\n",
    "  print(\"자연수를 입력해주세요\")\n",
    "else:\n",
    "  print(f'{a}/{b}={c}')\n",
    "finally:\n",
    "  print(\"calculation completed\")"
   ]
  },
  {
   "cell_type": "markdown",
   "id": "3ced1b1a-f9ed-4107-888e-c520be913ea5",
   "metadata": {},
   "source": [
    "1. a,b 가 자연수를 입력 받지 못했을때 + a/b를 출력하지 못할  때를 대비해 try 구문 안에 넣는다.\n",
    "2. 오류가 뜰 상황 중 b값이 0을 받았을 때 except ZeroDivisionError를 통해 b값이 잘못 되었다는 것을 알려준다.\n",
    "3. a,b는 인테자로서 정수값을 입력받지 못했을 때 ValueError를 통해 자연수를 입력"
   ]
  }
 ],
 "metadata": {
  "kernelspec": {
   "display_name": "Python 3 (ipykernel)",
   "language": "python",
   "name": "python3"
  },
  "language_info": {
   "codemirror_mode": {
    "name": "ipython",
    "version": 3
   },
   "file_extension": ".py",
   "mimetype": "text/x-python",
   "name": "python",
   "nbconvert_exporter": "python",
   "pygments_lexer": "ipython3",
   "version": "3.11.7"
  }
 },
 "nbformat": 4,
 "nbformat_minor": 5
}
